{
 "cells": [
  {
   "cell_type": "markdown",
   "metadata": {},
   "source": [
    "# Intro to Bayesian Statistics Lab\n",
    "\n",
    "Complete the following set of exercises to solidify your knowledge of Bayesian statistics and Bayesian data analysis."
   ]
  },
  {
   "cell_type": "code",
   "execution_count": 1,
   "metadata": {},
   "outputs": [],
   "source": [
    "import pandas as pd\n",
    "import numpy as np\n",
    "import matplotlib.pyplot as plt"
   ]
  },
  {
   "cell_type": "markdown",
   "metadata": {},
   "source": [
    "## 1. Cookie Problem\n",
    "\n",
    "Suppose we have two bowls of cookies. Bowl 1 contains 30 vanilla cookies and 10 chocolate cookies. Bowl 2 contains 20 of each. You randomly pick one cookie out of one of the bowls, and it is vanilla. Use Bayes Theorem to calculate the probability that the vanilla cookie you picked came from Bowl 1?"
   ]
  },
  {
   "cell_type": "code",
   "execution_count": 3,
   "metadata": {},
   "outputs": [],
   "source": [
    "# P(A|B) = P(A) P(B|A) / P(B)\n",
    "\"\"\"\n",
    "P(A) is known as the prior probability, and it is the the probability of the hypothesis before we see the data.\n",
    "P(B|A) is known as the likelihood, and it represents the probability of the data under the hypothesis.\n",
    "P(B) is known as the marginal probability, and it is a normalizing constant that represents the probability of the data under any hypothesis, or P(A∪B). In other words, it can be computed as P(A) P(B|A) + P(-A) P(B|-A) where -A is Not A (the alternative scenario of the hypothesis).\n",
    "P(A|B) is known as the posterior probability, and it is the probability that we want to compute after having seen the data.\"\"\"\n",
    "\n",
    "def bayes(priors, likelihoods):\n",
    "    marg = sum(np.multiply(priors, likelihoods))\n",
    "    post = np.divide(np.multiply(priors, likelihoods), marg)\n",
    "    return post"
   ]
  },
  {
   "cell_type": "code",
   "execution_count": 15,
   "metadata": {},
   "outputs": [
    {
     "name": "stdout",
     "output_type": "stream",
     "text": [
      "The probability that it came from bowl 1 is 0.6\n"
     ]
    }
   ],
   "source": [
    "p = (.5*3/4)/(5/8)\n",
    "print(f'The probability that it came from bowl 1 is {p}')"
   ]
  },
  {
   "cell_type": "markdown",
   "metadata": {},
   "source": [
    "What is the probability that it came from Bowl 2?"
   ]
  },
  {
   "cell_type": "code",
   "execution_count": 11,
   "metadata": {},
   "outputs": [
    {
     "name": "stdout",
     "output_type": "stream",
     "text": [
      "The probability that it came from bowl 1 is 0.4\n"
     ]
    }
   ],
   "source": [
    "q = 1-p\n",
    "print(f'The probability that it came from bowl 2 is {q}')"
   ]
  },
  {
   "cell_type": "code",
   "execution_count": 12,
   "metadata": {},
   "outputs": [
    {
     "name": "stdout",
     "output_type": "stream",
     "text": [
      "The probability that it came from bowl 1 is 0.6\n",
      "The probability that it came from bowl 1 is 0.4\n"
     ]
    }
   ],
   "source": [
    "p_bowl = (0.5, 0.5)\n",
    "p_b1_v = (3/4, 1/2)\n",
    "\n",
    "bowl_1, bowl_2 = bayes(p_bowl,p_b1_v)\n",
    "\n",
    "print(f'The probability that it came from bowl 1 is {bowl_1}')\n",
    "print(f'The probability that it came from bowl 2 is {bowl_2}')"
   ]
  },
  {
   "cell_type": "markdown",
   "metadata": {},
   "source": [
    "\n",
    "What if the cookie you had picked was chocolate? What are the probabilities that the chocolate cookie came from Bowl 1 and Bowl 2 respectively?"
   ]
  },
  {
   "cell_type": "code",
   "execution_count": 16,
   "metadata": {},
   "outputs": [
    {
     "name": "stdout",
     "output_type": "stream",
     "text": [
      "The probability that it came from bowl 1 is 0.3333333333333333\n",
      "The probability that it came from bowl 2 is 0.6666666666666667\n"
     ]
    }
   ],
   "source": [
    "p = (.5*1/4)/(3/8)\n",
    "q = 1-p\n",
    "print(f'The probability that it came from bowl 1 is {p}')\n",
    "print(f'The probability that it came from bowl 2 is {q}')"
   ]
  },
  {
   "cell_type": "code",
   "execution_count": 14,
   "metadata": {},
   "outputs": [
    {
     "name": "stdout",
     "output_type": "stream",
     "text": [
      "The probability that it came from bowl 1 is 0.3333333333333333\n",
      "The probability that it came from bowl 2 is 0.6666666666666666\n"
     ]
    }
   ],
   "source": [
    "p_bowl = (0.5, 0.5)\n",
    "p_b1_v = (1/4, 1/2)\n",
    "\n",
    "bowl_1, bowl_2 = bayes(p_bowl,p_b1_v)\n",
    "\n",
    "print(f'The probability that it came from bowl 1 is {bowl_1}')\n",
    "print(f'The probability that it came from bowl 2 is {bowl_2}')"
   ]
  },
  {
   "cell_type": "markdown",
   "metadata": {},
   "source": [
    "## 2. Candy Problem\n",
    "\n",
    "Suppose you have two bags of candies:\n",
    "\n",
    "- In Bag 1, the mix of colors is:\n",
    "    - Brown - 30%\n",
    "    - Yellow - 20%\n",
    "    - Red - 20%\n",
    "    - Green - 10%\n",
    "    - Orange - 10%\n",
    "    - Tan - 10%\n",
    "    \n",
    "- In Bag 2, the mix of colors is:\n",
    "    - Blue - 24%\n",
    "    - Green - 20%\n",
    "    - Orange - 16%\n",
    "    - Yellow - 14%\n",
    "    - Red - 13%\n",
    "    - Brown - 13%\n",
    "    \n",
    "Not knowing which bag is which, you randomly draw one candy from each bag. One is yellow and one is green. What is the probability that the yellow one came from the Bag 1?\n",
    "\n",
    "*Hint: For the likelihoods, you will need to multiply the probabilities of drawing yellow from one bag and green from the other bag and vice versa.*"
   ]
  },
  {
   "cell_type": "code",
   "execution_count": 22,
   "metadata": {},
   "outputs": [
    {
     "name": "stdout",
     "output_type": "stream",
     "text": [
      "The probability that it came from bag 1 is 0.7407407407407408\n"
     ]
    }
   ],
   "source": [
    "priors = [0.5, 0.5]\n",
    "likelihoods = [.04, 0.014]\n",
    "bag_1, bag_2 = bayes(priors,likelihoods)\n",
    "print(f'The probability that it came from bag 1 is {bag_1}')"
   ]
  },
  {
   "cell_type": "markdown",
   "metadata": {},
   "source": [
    "What is the probability that the yellow candy came from Bag 2?"
   ]
  },
  {
   "cell_type": "code",
   "execution_count": 23,
   "metadata": {},
   "outputs": [
    {
     "name": "stdout",
     "output_type": "stream",
     "text": [
      "The probability that it came from bag 2 is 0.25925925925925924\n"
     ]
    }
   ],
   "source": [
    "print(f'The probability that it came from bag 2 is {bag_2}')"
   ]
  },
  {
   "cell_type": "markdown",
   "metadata": {},
   "source": [
    "What are the probabilities that the green one came from Bag 1 and Bag 2 respectively?"
   ]
  },
  {
   "cell_type": "code",
   "execution_count": 24,
   "metadata": {},
   "outputs": [
    {
     "name": "stdout",
     "output_type": "stream",
     "text": [
      "The probability that it came from bag 1 is 0.25925925925925924\n",
      "The probability that it came from bag 2 is 0.7407407407407408\n"
     ]
    }
   ],
   "source": [
    "priors = [0.5, 0.5]\n",
    "likelihoods = [.014, 0.04]\n",
    "bag_1, bag_2 = bayes(priors,likelihoods)\n",
    "print(f'The probability that it came from bag 1 is {bag_1}')\n",
    "print(f'The probability that it came from bag 2 is {bag_2}')"
   ]
  },
  {
   "cell_type": "markdown",
   "metadata": {},
   "source": [
    "## 3. Monty Hall Problem\n",
    "\n",
    "Suppose you are a contestant on the popular game show *Let's Make a Deal*. The host of the show (Monty Hall) presents you with three doors - Door A, Door B, and Door C. He tells you that there is a sports car behind one of them and if you choose the correct one, you win the car!\n",
    "\n",
    "You select Door A, but then Monty makes things a little more interesting. He opens Door B to reveal that there is no sports car behind it and asks you if you would like to stick with your choice of Door A or switch your choice to Door C. Given this new information, what are the probabilities of you winning the car if you stick with Door A versus if you switch to Door C?"
   ]
  },
  {
   "cell_type": "code",
   "execution_count": 1,
   "metadata": {},
   "outputs": [
    {
     "name": "stdout",
     "output_type": "stream",
     "text": [
      "The probability of winning the car given I do not switch doors after Monty opened door B: 0.3333333333333333\n",
      "The probability of winning the car given I switch doors after Monty opened door B: 0.6666666666666666\n"
     ]
    }
   ],
   "source": [
    "\"\"\"\n",
    "p(Car door A) = 1/3 \n",
    "p(Car door B) = 1/3 \n",
    "p(Car door C) = 1/3 \n",
    "\n",
    "proba d q monti abra b dado que el carro esta en\n",
    "p(H = B | Car = A) = .5 #considering I selected door A, probabilities of Monty Hall openning Door B if car is behind A \n",
    "p(H = B | Car = B) = 0 #considering I selected door A, probabilities of Monty Hall openning Door B if car is behind B \n",
    "p(H = B | Car = C) = 1 #considering I selected door A, probabilities of Monty Hall openning Door B if car is behind C\n",
    "\n",
    "#Should I stick with Door A or should I switch to Door C \n",
    "p(Car = C | H = B)= ?\n",
    "p(Car = A | H = B)= ?\"\"\"\n",
    "#p(Car = A | H = B)\n",
    "no_switch = ((.5)*(1/3)) / (((.5)*(1/3)) + ((0)*(1/3)) + ((1)*(1/3)))\n",
    "print(f'The probability of winning the car given I do not switch doors after Monty opened door B: {no_switch}')\n",
    "\n",
    "#p(Car = C | H = B) \n",
    "switch = ((1)*(1/3)) / (((.5)*(1/3)) + ((0)*(1/3)) + ((1)*(1/3)))\n",
    "print(f'The probability of winning the car given I switch doors after Monty opened door B: {switch}')"
   ]
  },
  {
   "cell_type": "markdown",
   "metadata": {},
   "source": [
    "## 4. Bayesian Analysis \n",
    "\n",
    "\n",
    "Suppose you work for a landscaping company, and they want to advertise their service online. They create an ad and sit back waiting for the money to roll in. On the first day, the ad sends 100 visitors to the site and 14 of them sign up for landscaping services. Create a generative model to come up with the posterior distribution and produce a visualization of what the posterior distribution would look like given the observed data."
   ]
  },
  {
   "cell_type": "code",
   "execution_count": 72,
   "metadata": {},
   "outputs": [
    {
     "data": {
      "image/png": "[encoded data removed]",
      "text/plain": [
       "<Figure size 432x288 with 1 Axes>"
      ]
     },
     "metadata": {
      "needs_background": "light"
     },
     "output_type": "display_data"
    }
   ],
   "source": [
    "# Creamos dist uniforme para que sea una serie d valores random entre 0 y 1\n",
    "prior = pd.Series(np.random.uniform(0,1, size = 10000))\n",
    "\n",
    "visitors = 100\n",
    "\n",
    "buyers = 14\n",
    "\n",
    "sim_data = []\n",
    "\n",
    "# iteramos en mi distribucion uniforme\n",
    "# Creo una muestra de dist binomial de 100 visitantes con probabilidad de suscripcion p\n",
    "# Agrego a mi lista el numero de veces que salio para cada p\n",
    "for p in prior:\n",
    "    sim_data.append(np.random.binomial(visitors, p))\n",
    "\n",
    "    \n",
    "posterior = prior[list(map(lambda x: x == buyers, sim_data))]\n",
    "\n",
    "posterior.hist();"
   ]
  },
  {
   "cell_type": "markdown",
   "metadata": {},
   "source": [
    "Produce a set of descriptive statistics for the posterior distribution."
   ]
  },
  {
   "cell_type": "code",
   "execution_count": 73,
   "metadata": {},
   "outputs": [
    {
     "data": {
      "text/plain": [
       "count    87.000000\n",
       "mean      0.148135\n",
       "std       0.035059\n",
       "min       0.085385\n",
       "25%       0.122547\n",
       "50%       0.141454\n",
       "75%       0.171375\n",
       "max       0.235419\n",
       "dtype: float64"
      ]
     },
     "execution_count": 73,
     "metadata": {},
     "output_type": "execute_result"
    }
   ],
   "source": [
    "posterior.describe()"
   ]
  },
  {
   "cell_type": "markdown",
   "metadata": {},
   "source": [
    "What is the 90% credible interval range?"
   ]
  },
  {
   "cell_type": "code",
   "execution_count": 74,
   "metadata": {},
   "outputs": [
    {
     "name": "stdout",
     "output_type": "stream",
     "text": [
      "Ninety percent of our values are seen from 0.10032848584828374 to 0.20708874364961646\n"
     ]
    }
   ],
   "source": [
    "print(f'Ninety percent of our values are seen from {posterior.quantile(.05)} to {posterior.quantile(.95)}')\n"
   ]
  },
  {
   "cell_type": "markdown",
   "metadata": {},
   "source": [
    "What is the Maximum Likelihood Estimate?"
   ]
  },
  {
   "cell_type": "code",
   "execution_count": 75,
   "metadata": {},
   "outputs": [
    {
     "name": "stdout",
     "output_type": "stream",
     "text": [
      "Maximum Likelihood Estimate:  0.13 | 0.13793103448275862\n"
     ]
    }
   ],
   "source": [
    "rounded = posterior.round(2)\n",
    "mode = rounded.mode()[0]\n",
    "probability = list(rounded).count(mode)/len(rounded)\n",
    "print('Maximum Likelihood Estimate: ', mode, '|',probability)\n",
    "\n",
    "# el valor mas probable es el 14% con una probabilidad de 12.0690%"
   ]
  }
 ],
 "metadata": {
  "kernelspec": {
   "display_name": "Python 3",
   "language": "python",
   "name": "python3"
  },
  "language_info": {
   "codemirror_mode": {
    "name": "ipython",
    "version": 3
   },
   "file_extension": ".py",
   "mimetype": "text/x-python",
   "name": "python",
   "nbconvert_exporter": "python",
   "pygments_lexer": "ipython3",
   "version": "3.8.3"
  }
 },
 "nbformat": 4,
 "nbformat_minor": 2
}
